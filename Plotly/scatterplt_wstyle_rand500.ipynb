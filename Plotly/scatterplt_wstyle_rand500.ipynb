{
 "cells": [
  {
   "cell_type": "code",
   "execution_count": 2,
   "source": [
    "\"\"\"\r\n",
    "Author:Utkarsh Sharma(sharmautkarsh2396@gmail.com)\r\n",
    "Date: 2021-08-03 05:15:00\r\n",
    "Last Modified by:----\r\n",
    "Last Modified time:----\r\n",
    "Title :Write a program to draw a scatter plot for random 500 x and y coordinates and style it\r\n",
    "\"\"\"\r\n",
    "import numpy as np \r\n",
    "import pandas as pd\r\n",
    "import plotly.express as px\r\n",
    "\r\n",
    "x=[np.random.randint(1,50) for _ in range(1,501)]\r\n",
    "y=[np.random.randint(1,50) for _ in range(1,501)]\r\n",
    "d={'x':x,'y':y}\r\n",
    "\r\n",
    "df=pd.DataFrame(d)"
   ],
   "outputs": [],
   "metadata": {}
  },
  {
   "cell_type": "code",
   "execution_count": 5,
   "source": [
    "fig=px.scatter(df,x,y,symbol=y,color=x)\r\n",
    "fig.update_traces(showlegend=False)"
   ],
   "outputs": [
    {
     "output_type": "display_data",
     "data": {
      "application/vnd.plotly.v1+json": {
       "config": {
        "plotlyServerURL": "https://plot.ly"
       },
       "data": [
        {
         "hovertemplate": "symbol=4<br>x=%{x}<br>y=%{y}<br>color=%{marker.color}<extra></extra>",
         "legendgroup": "4",
         "marker": {
          "color": [
           14,
           29,
           14,
           39,
           47,
           35,
           10,
           9,
           20,
           30,
           6
          ],
          "coloraxis": "coloraxis",
          "symbol": "circle"
         },
         "mode": "markers",
         "name": "4",
         "orientation": "v",
         "showlegend": false,
         "type": "scatter",
         "x": [
          14,
          29,
          14,
          39,
          47,
          35,
          10,
          9,
          20,
          30,
          6
         ],
         "xaxis": "x",
         "y": [
          4,
          4,
          4,
          4,
          4,
          4,
          4,
          4,
          4,
          4,
          4
         ],
         "yaxis": "y"
        },
        {
         "hovertemplate": "symbol=28<br>x=%{x}<br>y=%{y}<br>color=%{marker.color}<extra></extra>",
         "legendgroup": "28",
         "marker": {
          "color": [
           35,
           49,
           35,
           39,
           26,
           22
          ],
          "coloraxis": "coloraxis",
          "symbol": "diamond"
         },
         "mode": "markers",
         "name": "28",
         "orientation": "v",
         "showlegend": false,
         "type": "scatter",
         "x": [
          35,
          49,
          35,
          39,
          26,
          22
         ],
         "xaxis": "x",
         "y": [
          28,
          28,
          28,
          28,
          28,
          28
         ],
         "yaxis": "y"
        },
        {
         "hovertemplate": "symbol=26<br>x=%{x}<br>y=%{y}<br>color=%{marker.color}<extra></extra>",
         "legendgroup": "26",
         "marker": {
          "color": [
           9,
           34,
           45,
           16,
           36,
           34,
           42,
           4
          ],
          "coloraxis": "coloraxis",
          "symbol": "square"
         },
         "mode": "markers",
         "name": "26",
         "orientation": "v",
         "showlegend": false,
         "type": "scatter",
         "x": [
          9,
          34,
          45,
          16,
          36,
          34,
          42,
          4
         ],
         "xaxis": "x",
         "y": [
          26,
          26,
          26,
          26,
          26,
          26,
          26,
          26
         ],
         "yaxis": "y"
        },
        {
         "hovertemplate": "symbol=48<br>x=%{x}<br>y=%{y}<br>color=%{marker.color}<extra></extra>",
         "legendgroup": "48",
         "marker": {
          "color": [
           44,
           11,
           17,
           26,
           40,
           43,
           20,
           5,
           12,
           44,
           42,
           22,
           38
          ],
          "coloraxis": "coloraxis",
          "symbol": "x"
         },
         "mode": "markers",
         "name": "48",
         "orientation": "v",
         "showlegend": false,
         "type": "scatter",
         "x": [
          44,
          11,
          17,
          26,
          40,
          43,
          20,
          5,
          12,
          44,
          42,
          22,
          38
         ],
         "xaxis": "x",
         "y": [
          48,
          48,
          48,
          48,
          48,
          48,
          48,
          48,
          48,
          48,
          48,
          48,
          48
         ],
         "yaxis": "y"
        },
        {
         "hovertemplate": "symbol=49<br>x=%{x}<br>y=%{y}<br>color=%{marker.color}<extra></extra>",
         "legendgroup": "49",
         "marker": {
          "color": [
           46,
           14,
           15,
           9,
           2,
           43,
           6,
           41,
           44,
           10,
           39,
           43,
           47
          ],
          "coloraxis": "coloraxis",
          "symbol": "cross"
         },
         "mode": "markers",
         "name": "49",
         "orientation": "v",
         "showlegend": false,
         "type": "scatter",
         "x": [
          46,
          14,
          15,
          9,
          2,
          43,
          6,
          41,
          44,
          10,
          39,
          43,
          47
         ],
         "xaxis": "x",
         "y": [
          49,
          49,
          49,
          49,
          49,
          49,
          49,
          49,
          49,
          49,
          49,
          49,
          49
         ],
         "yaxis": "y"
        },
        {
         "hovertemplate": "symbol=2<br>x=%{x}<br>y=%{y}<br>color=%{marker.color}<extra></extra>",
         "legendgroup": "2",
         "marker": {
          "color": [
           26,
           11,
           44,
           12,
           7,
           2,
           24,
           34,
           2,
           2,
           29
          ],
          "coloraxis": "coloraxis",
          "symbol": "circle"
         },
         "mode": "markers",
         "name": "2",
         "orientation": "v",
         "showlegend": false,
         "type": "scatter",
         "x": [
          26,
          11,
          44,
          12,
          7,
          2,
          24,
          34,
          2,
          2,
          29
         ],
         "xaxis": "x",
         "y": [
          2,
          2,
          2,
          2,
          2,
          2,
          2,
          2,
          2,
          2,
          2
         ],
         "yaxis": "y"
        },
        {
         "hovertemplate": "symbol=42<br>x=%{x}<br>y=%{y}<br>color=%{marker.color}<extra></extra>",
         "legendgroup": "42",
         "marker": {
          "color": [
           16,
           17,
           35,
           34,
           8,
           42,
           1,
           39,
           9,
           38,
           2,
           27,
           38,
           9
          ],
          "coloraxis": "coloraxis",
          "symbol": "diamond"
         },
         "mode": "markers",
         "name": "42",
         "orientation": "v",
         "showlegend": false,
         "type": "scatter",
         "x": [
          16,
          17,
          35,
          34,
          8,
          42,
          1,
          39,
          9,
          38,
          2,
          27,
          38,
          9
         ],
         "xaxis": "x",
         "y": [
          42,
          42,
          42,
          42,
          42,
          42,
          42,
          42,
          42,
          42,
          42,
          42,
          42,
          42
         ],
         "yaxis": "y"
        },
        {
         "hovertemplate": "symbol=27<br>x=%{x}<br>y=%{y}<br>color=%{marker.color}<extra></extra>",
         "legendgroup": "27",
         "marker": {
          "color": [
           24,
           22,
           11,
           40,
           28,
           37,
           25,
           48,
           35,
           25,
           48,
           12,
           25,
           37,
           2,
           47
          ],
          "coloraxis": "coloraxis",
          "symbol": "square"
         },
         "mode": "markers",
         "name": "27",
         "orientation": "v",
         "showlegend": false,
         "type": "scatter",
         "x": [
          24,
          22,
          11,
          40,
          28,
          37,
          25,
          48,
          35,
          25,
          48,
          12,
          25,
          37,
          2,
          47
         ],
         "xaxis": "x",
         "y": [
          27,
          27,
          27,
          27,
          27,
          27,
          27,
          27,
          27,
          27,
          27,
          27,
          27,
          27,
          27,
          27
         ],
         "yaxis": "y"
        },
        {
         "hovertemplate": "symbol=40<br>x=%{x}<br>y=%{y}<br>color=%{marker.color}<extra></extra>",
         "legendgroup": "40",
         "marker": {
          "color": [
           49,
           24,
           36,
           42,
           16,
           39,
           23,
           13,
           35,
           25
          ],
          "coloraxis": "coloraxis",
          "symbol": "x"
         },
         "mode": "markers",
         "name": "40",
         "orientation": "v",
         "showlegend": false,
         "type": "scatter",
         "x": [
          49,
          24,
          36,
          42,
          16,
          39,
          23,
          13,
          35,
          25
         ],
         "xaxis": "x",
         "y": [
          40,
          40,
          40,
          40,
          40,
          40,
          40,
          40,
          40,
          40
         ],
         "yaxis": "y"
        },
        {
         "hovertemplate": "symbol=9<br>x=%{x}<br>y=%{y}<br>color=%{marker.color}<extra></extra>",
         "legendgroup": "9",
         "marker": {
          "color": [
           6,
           42,
           28,
           37,
           39,
           28,
           28,
           12,
           38,
           25,
           40
          ],
          "coloraxis": "coloraxis",
          "symbol": "cross"
         },
         "mode": "markers",
         "name": "9",
         "orientation": "v",
         "showlegend": false,
         "type": "scatter",
         "x": [
          6,
          42,
          28,
          37,
          39,
          28,
          28,
          12,
          38,
          25,
          40
         ],
         "xaxis": "x",
         "y": [
          9,
          9,
          9,
          9,
          9,
          9,
          9,
          9,
          9,
          9,
          9
         ],
         "yaxis": "y"
        },
        {
         "hovertemplate": "symbol=36<br>x=%{x}<br>y=%{y}<br>color=%{marker.color}<extra></extra>",
         "legendgroup": "36",
         "marker": {
          "color": [
           41,
           31,
           36,
           1,
           3,
           8,
           29
          ],
          "coloraxis": "coloraxis",
          "symbol": "circle"
         },
         "mode": "markers",
         "name": "36",
         "orientation": "v",
         "showlegend": false,
         "type": "scatter",
         "x": [
          41,
          31,
          36,
          1,
          3,
          8,
          29
         ],
         "xaxis": "x",
         "y": [
          36,
          36,
          36,
          36,
          36,
          36,
          36
         ],
         "yaxis": "y"
        },
        {
         "hovertemplate": "symbol=3<br>x=%{x}<br>y=%{y}<br>color=%{marker.color}<extra></extra>",
         "legendgroup": "3",
         "marker": {
          "color": [
           36,
           12,
           35,
           39,
           27,
           40
          ],
          "coloraxis": "coloraxis",
          "symbol": "diamond"
         },
         "mode": "markers",
         "name": "3",
         "orientation": "v",
         "showlegend": false,
         "type": "scatter",
         "x": [
          36,
          12,
          35,
          39,
          27,
          40
         ],
         "xaxis": "x",
         "y": [
          3,
          3,
          3,
          3,
          3,
          3
         ],
         "yaxis": "y"
        },
        {
         "hovertemplate": "symbol=25<br>x=%{x}<br>y=%{y}<br>color=%{marker.color}<extra></extra>",
         "legendgroup": "25",
         "marker": {
          "color": [
           20,
           22,
           11,
           41,
           23,
           30,
           49,
           8,
           26,
           31,
           47,
           12
          ],
          "coloraxis": "coloraxis",
          "symbol": "square"
         },
         "mode": "markers",
         "name": "25",
         "orientation": "v",
         "showlegend": false,
         "type": "scatter",
         "x": [
          20,
          22,
          11,
          41,
          23,
          30,
          49,
          8,
          26,
          31,
          47,
          12
         ],
         "xaxis": "x",
         "y": [
          25,
          25,
          25,
          25,
          25,
          25,
          25,
          25,
          25,
          25,
          25,
          25
         ],
         "yaxis": "y"
        },
        {
         "hovertemplate": "symbol=11<br>x=%{x}<br>y=%{y}<br>color=%{marker.color}<extra></extra>",
         "legendgroup": "11",
         "marker": {
          "color": [
           35,
           29,
           23,
           33,
           36,
           30,
           11,
           9,
           22,
           34,
           23
          ],
          "coloraxis": "coloraxis",
          "symbol": "x"
         },
         "mode": "markers",
         "name": "11",
         "orientation": "v",
         "showlegend": false,
         "type": "scatter",
         "x": [
          35,
          29,
          23,
          33,
          36,
          30,
          11,
          9,
          22,
          34,
          23
         ],
         "xaxis": "x",
         "y": [
          11,
          11,
          11,
          11,
          11,
          11,
          11,
          11,
          11,
          11,
          11
         ],
         "yaxis": "y"
        },
        {
         "hovertemplate": "symbol=44<br>x=%{x}<br>y=%{y}<br>color=%{marker.color}<extra></extra>",
         "legendgroup": "44",
         "marker": {
          "color": [
           8,
           2,
           1,
           28,
           46,
           24,
           9,
           24,
           6,
           19,
           21,
           42,
           12
          ],
          "coloraxis": "coloraxis",
          "symbol": "cross"
         },
         "mode": "markers",
         "name": "44",
         "orientation": "v",
         "showlegend": false,
         "type": "scatter",
         "x": [
          8,
          2,
          1,
          28,
          46,
          24,
          9,
          24,
          6,
          19,
          21,
          42,
          12
         ],
         "xaxis": "x",
         "y": [
          44,
          44,
          44,
          44,
          44,
          44,
          44,
          44,
          44,
          44,
          44,
          44,
          44
         ],
         "yaxis": "y"
        },
        {
         "hovertemplate": "symbol=19<br>x=%{x}<br>y=%{y}<br>color=%{marker.color}<extra></extra>",
         "legendgroup": "19",
         "marker": {
          "color": [
           22,
           45,
           11,
           38,
           6,
           34,
           16,
           6
          ],
          "coloraxis": "coloraxis",
          "symbol": "circle"
         },
         "mode": "markers",
         "name": "19",
         "orientation": "v",
         "showlegend": false,
         "type": "scatter",
         "x": [
          22,
          45,
          11,
          38,
          6,
          34,
          16,
          6
         ],
         "xaxis": "x",
         "y": [
          19,
          19,
          19,
          19,
          19,
          19,
          19,
          19
         ],
         "yaxis": "y"
        },
        {
         "hovertemplate": "symbol=39<br>x=%{x}<br>y=%{y}<br>color=%{marker.color}<extra></extra>",
         "legendgroup": "39",
         "marker": {
          "color": [
           3,
           8,
           5,
           14,
           41,
           14,
           33,
           5,
           7,
           24,
           6,
           22
          ],
          "coloraxis": "coloraxis",
          "symbol": "diamond"
         },
         "mode": "markers",
         "name": "39",
         "orientation": "v",
         "showlegend": false,
         "type": "scatter",
         "x": [
          3,
          8,
          5,
          14,
          41,
          14,
          33,
          5,
          7,
          24,
          6,
          22
         ],
         "xaxis": "x",
         "y": [
          39,
          39,
          39,
          39,
          39,
          39,
          39,
          39,
          39,
          39,
          39,
          39
         ],
         "yaxis": "y"
        },
        {
         "hovertemplate": "symbol=6<br>x=%{x}<br>y=%{y}<br>color=%{marker.color}<extra></extra>",
         "legendgroup": "6",
         "marker": {
          "color": [
           26,
           35,
           45,
           11,
           45,
           19,
           47,
           16,
           23,
           11,
           25,
           28,
           18
          ],
          "coloraxis": "coloraxis",
          "symbol": "square"
         },
         "mode": "markers",
         "name": "6",
         "orientation": "v",
         "showlegend": false,
         "type": "scatter",
         "x": [
          26,
          35,
          45,
          11,
          45,
          19,
          47,
          16,
          23,
          11,
          25,
          28,
          18
         ],
         "xaxis": "x",
         "y": [
          6,
          6,
          6,
          6,
          6,
          6,
          6,
          6,
          6,
          6,
          6,
          6,
          6
         ],
         "yaxis": "y"
        },
        {
         "hovertemplate": "symbol=46<br>x=%{x}<br>y=%{y}<br>color=%{marker.color}<extra></extra>",
         "legendgroup": "46",
         "marker": {
          "color": [
           9,
           45,
           45,
           31,
           35,
           14,
           8,
           2,
           1,
           16,
           9,
           47,
           48,
           41,
           28,
           17
          ],
          "coloraxis": "coloraxis",
          "symbol": "x"
         },
         "mode": "markers",
         "name": "46",
         "orientation": "v",
         "showlegend": false,
         "type": "scatter",
         "x": [
          9,
          45,
          45,
          31,
          35,
          14,
          8,
          2,
          1,
          16,
          9,
          47,
          48,
          41,
          28,
          17
         ],
         "xaxis": "x",
         "y": [
          46,
          46,
          46,
          46,
          46,
          46,
          46,
          46,
          46,
          46,
          46,
          46,
          46,
          46,
          46,
          46
         ],
         "yaxis": "y"
        },
        {
         "hovertemplate": "symbol=38<br>x=%{x}<br>y=%{y}<br>color=%{marker.color}<extra></extra>",
         "legendgroup": "38",
         "marker": {
          "color": [
           29,
           28,
           26,
           20,
           3,
           48,
           9,
           30,
           40,
           15,
           8,
           48
          ],
          "coloraxis": "coloraxis",
          "symbol": "cross"
         },
         "mode": "markers",
         "name": "38",
         "orientation": "v",
         "showlegend": false,
         "type": "scatter",
         "x": [
          29,
          28,
          26,
          20,
          3,
          48,
          9,
          30,
          40,
          15,
          8,
          48
         ],
         "xaxis": "x",
         "y": [
          38,
          38,
          38,
          38,
          38,
          38,
          38,
          38,
          38,
          38,
          38,
          38
         ],
         "yaxis": "y"
        },
        {
         "hovertemplate": "symbol=45<br>x=%{x}<br>y=%{y}<br>color=%{marker.color}<extra></extra>",
         "legendgroup": "45",
         "marker": {
          "color": [
           47,
           27,
           46,
           19,
           3,
           12
          ],
          "coloraxis": "coloraxis",
          "symbol": "circle"
         },
         "mode": "markers",
         "name": "45",
         "orientation": "v",
         "showlegend": false,
         "type": "scatter",
         "x": [
          47,
          27,
          46,
          19,
          3,
          12
         ],
         "xaxis": "x",
         "y": [
          45,
          45,
          45,
          45,
          45,
          45
         ],
         "yaxis": "y"
        },
        {
         "hovertemplate": "symbol=12<br>x=%{x}<br>y=%{y}<br>color=%{marker.color}<extra></extra>",
         "legendgroup": "12",
         "marker": {
          "color": [
           46,
           20,
           36,
           34,
           24,
           49,
           39,
           25,
           22,
           38,
           29
          ],
          "coloraxis": "coloraxis",
          "symbol": "diamond"
         },
         "mode": "markers",
         "name": "12",
         "orientation": "v",
         "showlegend": false,
         "type": "scatter",
         "x": [
          46,
          20,
          36,
          34,
          24,
          49,
          39,
          25,
          22,
          38,
          29
         ],
         "xaxis": "x",
         "y": [
          12,
          12,
          12,
          12,
          12,
          12,
          12,
          12,
          12,
          12,
          12
         ],
         "yaxis": "y"
        },
        {
         "hovertemplate": "symbol=17<br>x=%{x}<br>y=%{y}<br>color=%{marker.color}<extra></extra>",
         "legendgroup": "17",
         "marker": {
          "color": [
           32,
           21,
           21,
           27,
           46,
           30,
           9,
           8,
           30,
           45,
           38,
           10,
           47
          ],
          "coloraxis": "coloraxis",
          "symbol": "square"
         },
         "mode": "markers",
         "name": "17",
         "orientation": "v",
         "showlegend": false,
         "type": "scatter",
         "x": [
          32,
          21,
          21,
          27,
          46,
          30,
          9,
          8,
          30,
          45,
          38,
          10,
          47
         ],
         "xaxis": "x",
         "y": [
          17,
          17,
          17,
          17,
          17,
          17,
          17,
          17,
          17,
          17,
          17,
          17,
          17
         ],
         "yaxis": "y"
        },
        {
         "hovertemplate": "symbol=10<br>x=%{x}<br>y=%{y}<br>color=%{marker.color}<extra></extra>",
         "legendgroup": "10",
         "marker": {
          "color": [
           48,
           6,
           43,
           26,
           29,
           15,
           39
          ],
          "coloraxis": "coloraxis",
          "symbol": "x"
         },
         "mode": "markers",
         "name": "10",
         "orientation": "v",
         "showlegend": false,
         "type": "scatter",
         "x": [
          48,
          6,
          43,
          26,
          29,
          15,
          39
         ],
         "xaxis": "x",
         "y": [
          10,
          10,
          10,
          10,
          10,
          10,
          10
         ],
         "yaxis": "y"
        },
        {
         "hovertemplate": "symbol=31<br>x=%{x}<br>y=%{y}<br>color=%{marker.color}<extra></extra>",
         "legendgroup": "31",
         "marker": {
          "color": [
           37,
           30,
           28,
           2,
           18,
           9,
           2,
           10,
           45,
           3,
           29,
           42
          ],
          "coloraxis": "coloraxis",
          "symbol": "cross"
         },
         "mode": "markers",
         "name": "31",
         "orientation": "v",
         "showlegend": false,
         "type": "scatter",
         "x": [
          37,
          30,
          28,
          2,
          18,
          9,
          2,
          10,
          45,
          3,
          29,
          42
         ],
         "xaxis": "x",
         "y": [
          31,
          31,
          31,
          31,
          31,
          31,
          31,
          31,
          31,
          31,
          31,
          31
         ],
         "yaxis": "y"
        },
        {
         "hovertemplate": "symbol=30<br>x=%{x}<br>y=%{y}<br>color=%{marker.color}<extra></extra>",
         "legendgroup": "30",
         "marker": {
          "color": [
           47,
           19,
           11,
           2,
           23,
           11,
           23,
           47,
           23,
           38,
           25,
           28,
           13,
           35
          ],
          "coloraxis": "coloraxis",
          "symbol": "circle"
         },
         "mode": "markers",
         "name": "30",
         "orientation": "v",
         "showlegend": false,
         "type": "scatter",
         "x": [
          47,
          19,
          11,
          2,
          23,
          11,
          23,
          47,
          23,
          38,
          25,
          28,
          13,
          35
         ],
         "xaxis": "x",
         "y": [
          30,
          30,
          30,
          30,
          30,
          30,
          30,
          30,
          30,
          30,
          30,
          30,
          30,
          30
         ],
         "yaxis": "y"
        },
        {
         "hovertemplate": "symbol=41<br>x=%{x}<br>y=%{y}<br>color=%{marker.color}<extra></extra>",
         "legendgroup": "41",
         "marker": {
          "color": [
           18,
           20,
           44,
           4,
           26,
           17
          ],
          "coloraxis": "coloraxis",
          "symbol": "diamond"
         },
         "mode": "markers",
         "name": "41",
         "orientation": "v",
         "showlegend": false,
         "type": "scatter",
         "x": [
          18,
          20,
          44,
          4,
          26,
          17
         ],
         "xaxis": "x",
         "y": [
          41,
          41,
          41,
          41,
          41,
          41
         ],
         "yaxis": "y"
        },
        {
         "hovertemplate": "symbol=21<br>x=%{x}<br>y=%{y}<br>color=%{marker.color}<extra></extra>",
         "legendgroup": "21",
         "marker": {
          "color": [
           48,
           48,
           21,
           39,
           7,
           40,
           17,
           46
          ],
          "coloraxis": "coloraxis",
          "symbol": "square"
         },
         "mode": "markers",
         "name": "21",
         "orientation": "v",
         "showlegend": false,
         "type": "scatter",
         "x": [
          48,
          48,
          21,
          39,
          7,
          40,
          17,
          46
         ],
         "xaxis": "x",
         "y": [
          21,
          21,
          21,
          21,
          21,
          21,
          21,
          21
         ],
         "yaxis": "y"
        },
        {
         "hovertemplate": "symbol=37<br>x=%{x}<br>y=%{y}<br>color=%{marker.color}<extra></extra>",
         "legendgroup": "37",
         "marker": {
          "color": [
           18,
           21,
           6,
           35,
           38,
           8,
           45,
           28,
           35,
           41,
           15,
           34,
           23,
           42,
           39,
           17
          ],
          "coloraxis": "coloraxis",
          "symbol": "x"
         },
         "mode": "markers",
         "name": "37",
         "orientation": "v",
         "showlegend": false,
         "type": "scatter",
         "x": [
          18,
          21,
          6,
          35,
          38,
          8,
          45,
          28,
          35,
          41,
          15,
          34,
          23,
          42,
          39,
          17
         ],
         "xaxis": "x",
         "y": [
          37,
          37,
          37,
          37,
          37,
          37,
          37,
          37,
          37,
          37,
          37,
          37,
          37,
          37,
          37,
          37
         ],
         "yaxis": "y"
        },
        {
         "hovertemplate": "symbol=20<br>x=%{x}<br>y=%{y}<br>color=%{marker.color}<extra></extra>",
         "legendgroup": "20",
         "marker": {
          "color": [
           19,
           37,
           17,
           41,
           29,
           15,
           43,
           26,
           15,
           19,
           4
          ],
          "coloraxis": "coloraxis",
          "symbol": "cross"
         },
         "mode": "markers",
         "name": "20",
         "orientation": "v",
         "showlegend": false,
         "type": "scatter",
         "x": [
          19,
          37,
          17,
          41,
          29,
          15,
          43,
          26,
          15,
          19,
          4
         ],
         "xaxis": "x",
         "y": [
          20,
          20,
          20,
          20,
          20,
          20,
          20,
          20,
          20,
          20,
          20
         ],
         "yaxis": "y"
        },
        {
         "hovertemplate": "symbol=43<br>x=%{x}<br>y=%{y}<br>color=%{marker.color}<extra></extra>",
         "legendgroup": "43",
         "marker": {
          "color": [
           4,
           31,
           3,
           20,
           22,
           45,
           26,
           20,
           19,
           10
          ],
          "coloraxis": "coloraxis",
          "symbol": "circle"
         },
         "mode": "markers",
         "name": "43",
         "orientation": "v",
         "showlegend": false,
         "type": "scatter",
         "x": [
          4,
          31,
          3,
          20,
          22,
          45,
          26,
          20,
          19,
          10
         ],
         "xaxis": "x",
         "y": [
          43,
          43,
          43,
          43,
          43,
          43,
          43,
          43,
          43,
          43
         ],
         "yaxis": "y"
        },
        {
         "hovertemplate": "symbol=15<br>x=%{x}<br>y=%{y}<br>color=%{marker.color}<extra></extra>",
         "legendgroup": "15",
         "marker": {
          "color": [
           48,
           47,
           22,
           1,
           10,
           2,
           38,
           21,
           32
          ],
          "coloraxis": "coloraxis",
          "symbol": "diamond"
         },
         "mode": "markers",
         "name": "15",
         "orientation": "v",
         "showlegend": false,
         "type": "scatter",
         "x": [
          48,
          47,
          22,
          1,
          10,
          2,
          38,
          21,
          32
         ],
         "xaxis": "x",
         "y": [
          15,
          15,
          15,
          15,
          15,
          15,
          15,
          15,
          15
         ],
         "yaxis": "y"
        },
        {
         "hovertemplate": "symbol=7<br>x=%{x}<br>y=%{y}<br>color=%{marker.color}<extra></extra>",
         "legendgroup": "7",
         "marker": {
          "color": [
           17,
           19,
           44,
           9,
           39,
           17,
           10,
           10,
           1,
           6,
           45
          ],
          "coloraxis": "coloraxis",
          "symbol": "square"
         },
         "mode": "markers",
         "name": "7",
         "orientation": "v",
         "showlegend": false,
         "type": "scatter",
         "x": [
          17,
          19,
          44,
          9,
          39,
          17,
          10,
          10,
          1,
          6,
          45
         ],
         "xaxis": "x",
         "y": [
          7,
          7,
          7,
          7,
          7,
          7,
          7,
          7,
          7,
          7,
          7
         ],
         "yaxis": "y"
        },
        {
         "hovertemplate": "symbol=13<br>x=%{x}<br>y=%{y}<br>color=%{marker.color}<extra></extra>",
         "legendgroup": "13",
         "marker": {
          "color": [
           2,
           45,
           28,
           44,
           26,
           15,
           8,
           19,
           47,
           46,
           8,
           25
          ],
          "coloraxis": "coloraxis",
          "symbol": "x"
         },
         "mode": "markers",
         "name": "13",
         "orientation": "v",
         "showlegend": false,
         "type": "scatter",
         "x": [
          2,
          45,
          28,
          44,
          26,
          15,
          8,
          19,
          47,
          46,
          8,
          25
         ],
         "xaxis": "x",
         "y": [
          13,
          13,
          13,
          13,
          13,
          13,
          13,
          13,
          13,
          13,
          13,
          13
         ],
         "yaxis": "y"
        },
        {
         "hovertemplate": "symbol=18<br>x=%{x}<br>y=%{y}<br>color=%{marker.color}<extra></extra>",
         "legendgroup": "18",
         "marker": {
          "color": [
           42,
           45,
           1,
           25,
           49,
           42,
           9,
           47,
           9,
           49,
           33
          ],
          "coloraxis": "coloraxis",
          "symbol": "cross"
         },
         "mode": "markers",
         "name": "18",
         "orientation": "v",
         "showlegend": false,
         "type": "scatter",
         "x": [
          42,
          45,
          1,
          25,
          49,
          42,
          9,
          47,
          9,
          49,
          33
         ],
         "xaxis": "x",
         "y": [
          18,
          18,
          18,
          18,
          18,
          18,
          18,
          18,
          18,
          18,
          18
         ],
         "yaxis": "y"
        },
        {
         "hovertemplate": "symbol=33<br>x=%{x}<br>y=%{y}<br>color=%{marker.color}<extra></extra>",
         "legendgroup": "33",
         "marker": {
          "color": [
           44,
           18,
           13,
           39,
           39,
           37,
           30,
           14,
           15
          ],
          "coloraxis": "coloraxis",
          "symbol": "circle"
         },
         "mode": "markers",
         "name": "33",
         "orientation": "v",
         "showlegend": false,
         "type": "scatter",
         "x": [
          44,
          18,
          13,
          39,
          39,
          37,
          30,
          14,
          15
         ],
         "xaxis": "x",
         "y": [
          33,
          33,
          33,
          33,
          33,
          33,
          33,
          33,
          33
         ],
         "yaxis": "y"
        },
        {
         "hovertemplate": "symbol=14<br>x=%{x}<br>y=%{y}<br>color=%{marker.color}<extra></extra>",
         "legendgroup": "14",
         "marker": {
          "color": [
           36,
           36,
           25,
           23,
           41,
           9,
           8,
           16,
           22
          ],
          "coloraxis": "coloraxis",
          "symbol": "diamond"
         },
         "mode": "markers",
         "name": "14",
         "orientation": "v",
         "showlegend": false,
         "type": "scatter",
         "x": [
          36,
          36,
          25,
          23,
          41,
          9,
          8,
          16,
          22
         ],
         "xaxis": "x",
         "y": [
          14,
          14,
          14,
          14,
          14,
          14,
          14,
          14,
          14
         ],
         "yaxis": "y"
        },
        {
         "hovertemplate": "symbol=16<br>x=%{x}<br>y=%{y}<br>color=%{marker.color}<extra></extra>",
         "legendgroup": "16",
         "marker": {
          "color": [
           5,
           31,
           7,
           26,
           6,
           40,
           18,
           31,
           4,
           44
          ],
          "coloraxis": "coloraxis",
          "symbol": "square"
         },
         "mode": "markers",
         "name": "16",
         "orientation": "v",
         "showlegend": false,
         "type": "scatter",
         "x": [
          5,
          31,
          7,
          26,
          6,
          40,
          18,
          31,
          4,
          44
         ],
         "xaxis": "x",
         "y": [
          16,
          16,
          16,
          16,
          16,
          16,
          16,
          16,
          16,
          16
         ],
         "yaxis": "y"
        },
        {
         "hovertemplate": "symbol=8<br>x=%{x}<br>y=%{y}<br>color=%{marker.color}<extra></extra>",
         "legendgroup": "8",
         "marker": {
          "color": [
           33,
           46,
           9,
           20,
           13
          ],
          "coloraxis": "coloraxis",
          "symbol": "x"
         },
         "mode": "markers",
         "name": "8",
         "orientation": "v",
         "showlegend": false,
         "type": "scatter",
         "x": [
          33,
          46,
          9,
          20,
          13
         ],
         "xaxis": "x",
         "y": [
          8,
          8,
          8,
          8,
          8
         ],
         "yaxis": "y"
        },
        {
         "hovertemplate": "symbol=1<br>x=%{x}<br>y=%{y}<br>color=%{marker.color}<extra></extra>",
         "legendgroup": "1",
         "marker": {
          "color": [
           25,
           6,
           49,
           47,
           46,
           5,
           43,
           6,
           4,
           40,
           7,
           31,
           8,
           29,
           10
          ],
          "coloraxis": "coloraxis",
          "symbol": "cross"
         },
         "mode": "markers",
         "name": "1",
         "orientation": "v",
         "showlegend": false,
         "type": "scatter",
         "x": [
          25,
          6,
          49,
          47,
          46,
          5,
          43,
          6,
          4,
          40,
          7,
          31,
          8,
          29,
          10
         ],
         "xaxis": "x",
         "y": [
          1,
          1,
          1,
          1,
          1,
          1,
          1,
          1,
          1,
          1,
          1,
          1,
          1,
          1,
          1
         ],
         "yaxis": "y"
        },
        {
         "hovertemplate": "symbol=32<br>x=%{x}<br>y=%{y}<br>color=%{marker.color}<extra></extra>",
         "legendgroup": "32",
         "marker": {
          "color": [
           13,
           33,
           44,
           40,
           46,
           22,
           12,
           2,
           4,
           5,
           2
          ],
          "coloraxis": "coloraxis",
          "symbol": "circle"
         },
         "mode": "markers",
         "name": "32",
         "orientation": "v",
         "showlegend": false,
         "type": "scatter",
         "x": [
          13,
          33,
          44,
          40,
          46,
          22,
          12,
          2,
          4,
          5,
          2
         ],
         "xaxis": "x",
         "y": [
          32,
          32,
          32,
          32,
          32,
          32,
          32,
          32,
          32,
          32,
          32
         ],
         "yaxis": "y"
        },
        {
         "hovertemplate": "symbol=34<br>x=%{x}<br>y=%{y}<br>color=%{marker.color}<extra></extra>",
         "legendgroup": "34",
         "marker": {
          "color": [
           20,
           25,
           10,
           27,
           38,
           2
          ],
          "coloraxis": "coloraxis",
          "symbol": "diamond"
         },
         "mode": "markers",
         "name": "34",
         "orientation": "v",
         "showlegend": false,
         "type": "scatter",
         "x": [
          20,
          25,
          10,
          27,
          38,
          2
         ],
         "xaxis": "x",
         "y": [
          34,
          34,
          34,
          34,
          34,
          34
         ],
         "yaxis": "y"
        },
        {
         "hovertemplate": "symbol=24<br>x=%{x}<br>y=%{y}<br>color=%{marker.color}<extra></extra>",
         "legendgroup": "24",
         "marker": {
          "color": [
           32,
           31,
           2,
           22,
           36,
           1,
           18,
           37,
           40,
           28,
           45
          ],
          "coloraxis": "coloraxis",
          "symbol": "square"
         },
         "mode": "markers",
         "name": "24",
         "orientation": "v",
         "showlegend": false,
         "type": "scatter",
         "x": [
          32,
          31,
          2,
          22,
          36,
          1,
          18,
          37,
          40,
          28,
          45
         ],
         "xaxis": "x",
         "y": [
          24,
          24,
          24,
          24,
          24,
          24,
          24,
          24,
          24,
          24,
          24
         ],
         "yaxis": "y"
        },
        {
         "hovertemplate": "symbol=5<br>x=%{x}<br>y=%{y}<br>color=%{marker.color}<extra></extra>",
         "legendgroup": "5",
         "marker": {
          "color": [
           43,
           43,
           1,
           19,
           13
          ],
          "coloraxis": "coloraxis",
          "symbol": "x"
         },
         "mode": "markers",
         "name": "5",
         "orientation": "v",
         "showlegend": false,
         "type": "scatter",
         "x": [
          43,
          43,
          1,
          19,
          13
         ],
         "xaxis": "x",
         "y": [
          5,
          5,
          5,
          5,
          5
         ],
         "yaxis": "y"
        },
        {
         "hovertemplate": "symbol=22<br>x=%{x}<br>y=%{y}<br>color=%{marker.color}<extra></extra>",
         "legendgroup": "22",
         "marker": {
          "color": [
           16,
           22,
           39,
           46,
           45
          ],
          "coloraxis": "coloraxis",
          "symbol": "cross"
         },
         "mode": "markers",
         "name": "22",
         "orientation": "v",
         "showlegend": false,
         "type": "scatter",
         "x": [
          16,
          22,
          39,
          46,
          45
         ],
         "xaxis": "x",
         "y": [
          22,
          22,
          22,
          22,
          22
         ],
         "yaxis": "y"
        },
        {
         "hovertemplate": "symbol=35<br>x=%{x}<br>y=%{y}<br>color=%{marker.color}<extra></extra>",
         "legendgroup": "35",
         "marker": {
          "color": [
           48,
           35,
           13,
           4,
           18,
           32,
           13
          ],
          "coloraxis": "coloraxis",
          "symbol": "circle"
         },
         "mode": "markers",
         "name": "35",
         "orientation": "v",
         "showlegend": false,
         "type": "scatter",
         "x": [
          48,
          35,
          13,
          4,
          18,
          32,
          13
         ],
         "xaxis": "x",
         "y": [
          35,
          35,
          35,
          35,
          35,
          35,
          35
         ],
         "yaxis": "y"
        },
        {
         "hovertemplate": "symbol=47<br>x=%{x}<br>y=%{y}<br>color=%{marker.color}<extra></extra>",
         "legendgroup": "47",
         "marker": {
          "color": [
           48,
           32,
           30,
           10,
           48,
           36,
           12,
           29,
           21,
           23
          ],
          "coloraxis": "coloraxis",
          "symbol": "diamond"
         },
         "mode": "markers",
         "name": "47",
         "orientation": "v",
         "showlegend": false,
         "type": "scatter",
         "x": [
          48,
          32,
          30,
          10,
          48,
          36,
          12,
          29,
          21,
          23
         ],
         "xaxis": "x",
         "y": [
          47,
          47,
          47,
          47,
          47,
          47,
          47,
          47,
          47,
          47
         ],
         "yaxis": "y"
        },
        {
         "hovertemplate": "symbol=29<br>x=%{x}<br>y=%{y}<br>color=%{marker.color}<extra></extra>",
         "legendgroup": "29",
         "marker": {
          "color": [
           31,
           48,
           36,
           12,
           8,
           8,
           34,
           28,
           44
          ],
          "coloraxis": "coloraxis",
          "symbol": "square"
         },
         "mode": "markers",
         "name": "29",
         "orientation": "v",
         "showlegend": false,
         "type": "scatter",
         "x": [
          31,
          48,
          36,
          12,
          8,
          8,
          34,
          28,
          44
         ],
         "xaxis": "x",
         "y": [
          29,
          29,
          29,
          29,
          29,
          29,
          29,
          29,
          29
         ],
         "yaxis": "y"
        },
        {
         "hovertemplate": "symbol=23<br>x=%{x}<br>y=%{y}<br>color=%{marker.color}<extra></extra>",
         "legendgroup": "23",
         "marker": {
          "color": [
           38,
           25,
           15,
           35,
           49,
           30,
           14,
           35
          ],
          "coloraxis": "coloraxis",
          "symbol": "x"
         },
         "mode": "markers",
         "name": "23",
         "orientation": "v",
         "showlegend": false,
         "type": "scatter",
         "x": [
          38,
          25,
          15,
          35,
          49,
          30,
          14,
          35
         ],
         "xaxis": "x",
         "y": [
          23,
          23,
          23,
          23,
          23,
          23,
          23,
          23
         ],
         "yaxis": "y"
        }
       ],
       "layout": {
        "coloraxis": {
         "colorbar": {
          "title": {
           "text": "color"
          }
         },
         "colorscale": [
          [
           0,
           "#0d0887"
          ],
          [
           0.1111111111111111,
           "#46039f"
          ],
          [
           0.2222222222222222,
           "#7201a8"
          ],
          [
           0.3333333333333333,
           "#9c179e"
          ],
          [
           0.4444444444444444,
           "#bd3786"
          ],
          [
           0.5555555555555556,
           "#d8576b"
          ],
          [
           0.6666666666666666,
           "#ed7953"
          ],
          [
           0.7777777777777778,
           "#fb9f3a"
          ],
          [
           0.8888888888888888,
           "#fdca26"
          ],
          [
           1,
           "#f0f921"
          ]
         ]
        },
        "legend": {
         "title": {
          "text": "symbol"
         },
         "tracegroupgap": 0
        },
        "margin": {
         "t": 60
        },
        "template": {
         "data": {
          "bar": [
           {
            "error_x": {
             "color": "#2a3f5f"
            },
            "error_y": {
             "color": "#2a3f5f"
            },
            "marker": {
             "line": {
              "color": "#E5ECF6",
              "width": 0.5
             },
             "pattern": {
              "fillmode": "overlay",
              "size": 10,
              "solidity": 0.2
             }
            },
            "type": "bar"
           }
          ],
          "barpolar": [
           {
            "marker": {
             "line": {
              "color": "#E5ECF6",
              "width": 0.5
             },
             "pattern": {
              "fillmode": "overlay",
              "size": 10,
              "solidity": 0.2
             }
            },
            "type": "barpolar"
           }
          ],
          "carpet": [
           {
            "aaxis": {
             "endlinecolor": "#2a3f5f",
             "gridcolor": "white",
             "linecolor": "white",
             "minorgridcolor": "white",
             "startlinecolor": "#2a3f5f"
            },
            "baxis": {
             "endlinecolor": "#2a3f5f",
             "gridcolor": "white",
             "linecolor": "white",
             "minorgridcolor": "white",
             "startlinecolor": "#2a3f5f"
            },
            "type": "carpet"
           }
          ],
          "choropleth": [
           {
            "colorbar": {
             "outlinewidth": 0,
             "ticks": ""
            },
            "type": "choropleth"
           }
          ],
          "contour": [
           {
            "colorbar": {
             "outlinewidth": 0,
             "ticks": ""
            },
            "colorscale": [
             [
              0,
              "#0d0887"
             ],
             [
              0.1111111111111111,
              "#46039f"
             ],
             [
              0.2222222222222222,
              "#7201a8"
             ],
             [
              0.3333333333333333,
              "#9c179e"
             ],
             [
              0.4444444444444444,
              "#bd3786"
             ],
             [
              0.5555555555555556,
              "#d8576b"
             ],
             [
              0.6666666666666666,
              "#ed7953"
             ],
             [
              0.7777777777777778,
              "#fb9f3a"
             ],
             [
              0.8888888888888888,
              "#fdca26"
             ],
             [
              1,
              "#f0f921"
             ]
            ],
            "type": "contour"
           }
          ],
          "contourcarpet": [
           {
            "colorbar": {
             "outlinewidth": 0,
             "ticks": ""
            },
            "type": "contourcarpet"
           }
          ],
          "heatmap": [
           {
            "colorbar": {
             "outlinewidth": 0,
             "ticks": ""
            },
            "colorscale": [
             [
              0,
              "#0d0887"
             ],
             [
              0.1111111111111111,
              "#46039f"
             ],
             [
              0.2222222222222222,
              "#7201a8"
             ],
             [
              0.3333333333333333,
              "#9c179e"
             ],
             [
              0.4444444444444444,
              "#bd3786"
             ],
             [
              0.5555555555555556,
              "#d8576b"
             ],
             [
              0.6666666666666666,
              "#ed7953"
             ],
             [
              0.7777777777777778,
              "#fb9f3a"
             ],
             [
              0.8888888888888888,
              "#fdca26"
             ],
             [
              1,
              "#f0f921"
             ]
            ],
            "type": "heatmap"
           }
          ],
          "heatmapgl": [
           {
            "colorbar": {
             "outlinewidth": 0,
             "ticks": ""
            },
            "colorscale": [
             [
              0,
              "#0d0887"
             ],
             [
              0.1111111111111111,
              "#46039f"
             ],
             [
              0.2222222222222222,
              "#7201a8"
             ],
             [
              0.3333333333333333,
              "#9c179e"
             ],
             [
              0.4444444444444444,
              "#bd3786"
             ],
             [
              0.5555555555555556,
              "#d8576b"
             ],
             [
              0.6666666666666666,
              "#ed7953"
             ],
             [
              0.7777777777777778,
              "#fb9f3a"
             ],
             [
              0.8888888888888888,
              "#fdca26"
             ],
             [
              1,
              "#f0f921"
             ]
            ],
            "type": "heatmapgl"
           }
          ],
          "histogram": [
           {
            "marker": {
             "pattern": {
              "fillmode": "overlay",
              "size": 10,
              "solidity": 0.2
             }
            },
            "type": "histogram"
           }
          ],
          "histogram2d": [
           {
            "colorbar": {
             "outlinewidth": 0,
             "ticks": ""
            },
            "colorscale": [
             [
              0,
              "#0d0887"
             ],
             [
              0.1111111111111111,
              "#46039f"
             ],
             [
              0.2222222222222222,
              "#7201a8"
             ],
             [
              0.3333333333333333,
              "#9c179e"
             ],
             [
              0.4444444444444444,
              "#bd3786"
             ],
             [
              0.5555555555555556,
              "#d8576b"
             ],
             [
              0.6666666666666666,
              "#ed7953"
             ],
             [
              0.7777777777777778,
              "#fb9f3a"
             ],
             [
              0.8888888888888888,
              "#fdca26"
             ],
             [
              1,
              "#f0f921"
             ]
            ],
            "type": "histogram2d"
           }
          ],
          "histogram2dcontour": [
           {
            "colorbar": {
             "outlinewidth": 0,
             "ticks": ""
            },
            "colorscale": [
             [
              0,
              "#0d0887"
             ],
             [
              0.1111111111111111,
              "#46039f"
             ],
             [
              0.2222222222222222,
              "#7201a8"
             ],
             [
              0.3333333333333333,
              "#9c179e"
             ],
             [
              0.4444444444444444,
              "#bd3786"
             ],
             [
              0.5555555555555556,
              "#d8576b"
             ],
             [
              0.6666666666666666,
              "#ed7953"
             ],
             [
              0.7777777777777778,
              "#fb9f3a"
             ],
             [
              0.8888888888888888,
              "#fdca26"
             ],
             [
              1,
              "#f0f921"
             ]
            ],
            "type": "histogram2dcontour"
           }
          ],
          "mesh3d": [
           {
            "colorbar": {
             "outlinewidth": 0,
             "ticks": ""
            },
            "type": "mesh3d"
           }
          ],
          "parcoords": [
           {
            "line": {
             "colorbar": {
              "outlinewidth": 0,
              "ticks": ""
             }
            },
            "type": "parcoords"
           }
          ],
          "pie": [
           {
            "automargin": true,
            "type": "pie"
           }
          ],
          "scatter": [
           {
            "marker": {
             "colorbar": {
              "outlinewidth": 0,
              "ticks": ""
             }
            },
            "type": "scatter"
           }
          ],
          "scatter3d": [
           {
            "line": {
             "colorbar": {
              "outlinewidth": 0,
              "ticks": ""
             }
            },
            "marker": {
             "colorbar": {
              "outlinewidth": 0,
              "ticks": ""
             }
            },
            "type": "scatter3d"
           }
          ],
          "scattercarpet": [
           {
            "marker": {
             "colorbar": {
              "outlinewidth": 0,
              "ticks": ""
             }
            },
            "type": "scattercarpet"
           }
          ],
          "scattergeo": [
           {
            "marker": {
             "colorbar": {
              "outlinewidth": 0,
              "ticks": ""
             }
            },
            "type": "scattergeo"
           }
          ],
          "scattergl": [
           {
            "marker": {
             "colorbar": {
              "outlinewidth": 0,
              "ticks": ""
             }
            },
            "type": "scattergl"
           }
          ],
          "scattermapbox": [
           {
            "marker": {
             "colorbar": {
              "outlinewidth": 0,
              "ticks": ""
             }
            },
            "type": "scattermapbox"
           }
          ],
          "scatterpolar": [
           {
            "marker": {
             "colorbar": {
              "outlinewidth": 0,
              "ticks": ""
             }
            },
            "type": "scatterpolar"
           }
          ],
          "scatterpolargl": [
           {
            "marker": {
             "colorbar": {
              "outlinewidth": 0,
              "ticks": ""
             }
            },
            "type": "scatterpolargl"
           }
          ],
          "scatterternary": [
           {
            "marker": {
             "colorbar": {
              "outlinewidth": 0,
              "ticks": ""
             }
            },
            "type": "scatterternary"
           }
          ],
          "surface": [
           {
            "colorbar": {
             "outlinewidth": 0,
             "ticks": ""
            },
            "colorscale": [
             [
              0,
              "#0d0887"
             ],
             [
              0.1111111111111111,
              "#46039f"
             ],
             [
              0.2222222222222222,
              "#7201a8"
             ],
             [
              0.3333333333333333,
              "#9c179e"
             ],
             [
              0.4444444444444444,
              "#bd3786"
             ],
             [
              0.5555555555555556,
              "#d8576b"
             ],
             [
              0.6666666666666666,
              "#ed7953"
             ],
             [
              0.7777777777777778,
              "#fb9f3a"
             ],
             [
              0.8888888888888888,
              "#fdca26"
             ],
             [
              1,
              "#f0f921"
             ]
            ],
            "type": "surface"
           }
          ],
          "table": [
           {
            "cells": {
             "fill": {
              "color": "#EBF0F8"
             },
             "line": {
              "color": "white"
             }
            },
            "header": {
             "fill": {
              "color": "#C8D4E3"
             },
             "line": {
              "color": "white"
             }
            },
            "type": "table"
           }
          ]
         },
         "layout": {
          "annotationdefaults": {
           "arrowcolor": "#2a3f5f",
           "arrowhead": 0,
           "arrowwidth": 1
          },
          "autotypenumbers": "strict",
          "coloraxis": {
           "colorbar": {
            "outlinewidth": 0,
            "ticks": ""
           }
          },
          "colorscale": {
           "diverging": [
            [
             0,
             "#8e0152"
            ],
            [
             0.1,
             "#c51b7d"
            ],
            [
             0.2,
             "#de77ae"
            ],
            [
             0.3,
             "#f1b6da"
            ],
            [
             0.4,
             "#fde0ef"
            ],
            [
             0.5,
             "#f7f7f7"
            ],
            [
             0.6,
             "#e6f5d0"
            ],
            [
             0.7,
             "#b8e186"
            ],
            [
             0.8,
             "#7fbc41"
            ],
            [
             0.9,
             "#4d9221"
            ],
            [
             1,
             "#276419"
            ]
           ],
           "sequential": [
            [
             0,
             "#0d0887"
            ],
            [
             0.1111111111111111,
             "#46039f"
            ],
            [
             0.2222222222222222,
             "#7201a8"
            ],
            [
             0.3333333333333333,
             "#9c179e"
            ],
            [
             0.4444444444444444,
             "#bd3786"
            ],
            [
             0.5555555555555556,
             "#d8576b"
            ],
            [
             0.6666666666666666,
             "#ed7953"
            ],
            [
             0.7777777777777778,
             "#fb9f3a"
            ],
            [
             0.8888888888888888,
             "#fdca26"
            ],
            [
             1,
             "#f0f921"
            ]
           ],
           "sequentialminus": [
            [
             0,
             "#0d0887"
            ],
            [
             0.1111111111111111,
             "#46039f"
            ],
            [
             0.2222222222222222,
             "#7201a8"
            ],
            [
             0.3333333333333333,
             "#9c179e"
            ],
            [
             0.4444444444444444,
             "#bd3786"
            ],
            [
             0.5555555555555556,
             "#d8576b"
            ],
            [
             0.6666666666666666,
             "#ed7953"
            ],
            [
             0.7777777777777778,
             "#fb9f3a"
            ],
            [
             0.8888888888888888,
             "#fdca26"
            ],
            [
             1,
             "#f0f921"
            ]
           ]
          },
          "colorway": [
           "#636efa",
           "#EF553B",
           "#00cc96",
           "#ab63fa",
           "#FFA15A",
           "#19d3f3",
           "#FF6692",
           "#B6E880",
           "#FF97FF",
           "#FECB52"
          ],
          "font": {
           "color": "#2a3f5f"
          },
          "geo": {
           "bgcolor": "white",
           "lakecolor": "white",
           "landcolor": "#E5ECF6",
           "showlakes": true,
           "showland": true,
           "subunitcolor": "white"
          },
          "hoverlabel": {
           "align": "left"
          },
          "hovermode": "closest",
          "mapbox": {
           "style": "light"
          },
          "paper_bgcolor": "white",
          "plot_bgcolor": "#E5ECF6",
          "polar": {
           "angularaxis": {
            "gridcolor": "white",
            "linecolor": "white",
            "ticks": ""
           },
           "bgcolor": "#E5ECF6",
           "radialaxis": {
            "gridcolor": "white",
            "linecolor": "white",
            "ticks": ""
           }
          },
          "scene": {
           "xaxis": {
            "backgroundcolor": "#E5ECF6",
            "gridcolor": "white",
            "gridwidth": 2,
            "linecolor": "white",
            "showbackground": true,
            "ticks": "",
            "zerolinecolor": "white"
           },
           "yaxis": {
            "backgroundcolor": "#E5ECF6",
            "gridcolor": "white",
            "gridwidth": 2,
            "linecolor": "white",
            "showbackground": true,
            "ticks": "",
            "zerolinecolor": "white"
           },
           "zaxis": {
            "backgroundcolor": "#E5ECF6",
            "gridcolor": "white",
            "gridwidth": 2,
            "linecolor": "white",
            "showbackground": true,
            "ticks": "",
            "zerolinecolor": "white"
           }
          },
          "shapedefaults": {
           "line": {
            "color": "#2a3f5f"
           }
          },
          "ternary": {
           "aaxis": {
            "gridcolor": "white",
            "linecolor": "white",
            "ticks": ""
           },
           "baxis": {
            "gridcolor": "white",
            "linecolor": "white",
            "ticks": ""
           },
           "bgcolor": "#E5ECF6",
           "caxis": {
            "gridcolor": "white",
            "linecolor": "white",
            "ticks": ""
           }
          },
          "title": {
           "x": 0.05
          },
          "xaxis": {
           "automargin": true,
           "gridcolor": "white",
           "linecolor": "white",
           "ticks": "",
           "title": {
            "standoff": 15
           },
           "zerolinecolor": "white",
           "zerolinewidth": 2
          },
          "yaxis": {
           "automargin": true,
           "gridcolor": "white",
           "linecolor": "white",
           "ticks": "",
           "title": {
            "standoff": 15
           },
           "zerolinecolor": "white",
           "zerolinewidth": 2
          }
         }
        },
        "xaxis": {
         "anchor": "y",
         "domain": [
          0,
          1
         ],
         "title": {
          "text": "x"
         }
        },
        "yaxis": {
         "anchor": "x",
         "domain": [
          0,
          1
         ],
         "title": {
          "text": "y"
         }
        }
       }
      }
     },
     "metadata": {}
    }
   ],
   "metadata": {}
  }
 ],
 "metadata": {
  "orig_nbformat": 4,
  "language_info": {
   "name": "python",
   "version": "3.9.7",
   "mimetype": "text/x-python",
   "codemirror_mode": {
    "name": "ipython",
    "version": 3
   },
   "pygments_lexer": "ipython3",
   "nbconvert_exporter": "python",
   "file_extension": ".py"
  },
  "kernelspec": {
   "name": "python3",
   "display_name": "Python 3.9.7 64-bit (windows store)"
  },
  "interpreter": {
   "hash": "635fefeef870a2e635987b42f547e4c11eb8c91c30e69fce6f6049873a50f73f"
  }
 },
 "nbformat": 4,
 "nbformat_minor": 2
}